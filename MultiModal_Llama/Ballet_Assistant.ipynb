{
 "cells": [
  {
   "metadata": {},
   "cell_type": "code",
   "outputs": [],
   "execution_count": null,
   "source": [
    "  # The right API to pass in a prompt (of type string) is the completions API https://docs.together.ai/reference/completions-1\n",
    "  # The right API to pass in a messages (of type of list of message) is The chat completions API https://docs.together.ai/reference/chat-completions-1"
   ],
   "id": "b74f06376fbc453c"
  },
  {
   "metadata": {
    "ExecuteTime": {
     "end_time": "2025-04-02T17:16:43.198452Z",
     "start_time": "2025-04-02T17:16:43.062344Z"
    }
   },
   "cell_type": "code",
   "source": [
    "import os\n",
    "from dotenv import load_dotenv, find_dotenv\n",
    "def load_env():\n",
    "    _ = load_dotenv(find_dotenv())\n",
    "env_dict = os.environ\n",
    "for key, value in env_dict.items():\n",
    "    print(f\"{key}: {value} \\n\")"
   ],
   "id": "1ec112d6fd4fc9fc",
   "outputs": [],
   "execution_count": 2
  },
  {
   "metadata": {
    "ExecuteTime": {
     "end_time": "2025-04-02T17:17:46.554086Z",
     "start_time": "2025-04-02T17:17:44.060342Z"
    }
   },
   "cell_type": "code",
   "source": [
    "import requests\n",
    "import json\n",
    "\n",
    "\n",
    "def llama32(messages, model_size=11):\n",
    "  model = f\"meta-llama/Llama-3.2-{model_size}B-Vision-Instruct-Turbo\"\n",
    "  url = f\"{os.getenv('DLAI_TOGETHER_API_BASE', 'https://api.together.xyz')}/v1/chat/completions\"\n",
    "  payload = {\n",
    "    \"model\": model,\n",
    "    \"max_tokens\": 4096,\n",
    "    \"temperature\": 0.0,\n",
    "    \"stop\": [\"<|eot_id|>\",\"<|eom_id|>\"],\n",
    "    \"messages\": messages\n",
    "  }\n",
    "\n",
    "  headers = {\n",
    "    \"Accept\": \"application/json\",\n",
    "    \"Content-Type\": \"application/json\",\n",
    "    \"Authorization\": f\"Bearer {os.getenv('TOGETHER_API_KEY')}\"\n",
    "  }\n",
    "  res = json.loads(requests.request(\"POST\", url, headers=headers, data=json.dumps(payload)).content)\n",
    "\n",
    "  if 'error' in res:\n",
    "    raise Exception(res['error'])\n",
    "\n",
    "  return res['choices'][0]['message']['content']\n",
    "\n",
    "\n",
    "def llama31(prompt_or_messages, model_size=8, temperature=0.5, raw=False, debug=False):\n",
    "    model = f\"meta-llama/Meta-Llama-3.1-{model_size}B-Instruct-Turbo\"\n",
    "    if isinstance(prompt_or_messages, str):\n",
    "        prompt = prompt_or_messages\n",
    "        url = f\"{os.getenv('DLAI_TOGETHER_API_BASE', 'https://api.together.xyz')}/v1/completions\"\n",
    "        payload = {\n",
    "            \"model\": model,\n",
    "            \"temperature\": temperature,\n",
    "            \"prompt\": prompt\n",
    "        }\n",
    "    else:\n",
    "        messages = prompt_or_messages\n",
    "        url = f\"{os.getenv('DLAI_TOGETHER_API_BASE', 'https://api.together.xyz')}/v1/chat/completions\"\n",
    "        payload = {\n",
    "            \"model\": model,\n",
    "            \"temperature\": temperature,\n",
    "            \"messages\": messages\n",
    "        }\n",
    "\n",
    "    if debug:\n",
    "        print(payload)\n",
    "\n",
    "    headers = {\n",
    "        \"Accept\": \"application/json\",\n",
    "        \"Content-Type\": \"application/json\",\n",
    "        \"Authorization\": f\"Bearer {os.getenv('TOGETHER_API_KEY')}\"\n",
    "    }\n",
    "\n",
    "    try:\n",
    "        response = requests.post(\n",
    "            url, headers=headers, data=json.dumps(payload)\n",
    "        )\n",
    "        response.raise_for_status()  # Raises HTTPError for bad responses\n",
    "        res = response.json()\n",
    "    except requests.exceptions.RequestException as e:\n",
    "        raise Exception(f\"Request failed: {e}\")\n",
    "\n",
    "    if 'error' in res:\n",
    "        raise Exception(f\"API Error: {res['error']}\")\n",
    "\n",
    "    if raw:\n",
    "        return res\n",
    "\n",
    "    if isinstance(prompt_or_messages, str):\n",
    "        return res['choices'][0].get('text', '')\n",
    "    else:\n",
    "        return res['choices'][0].get('message', {}).get('content', '')"
   ],
   "id": "26bc9e217d7b239",
   "outputs": [],
   "execution_count": 4
  },
  {
   "metadata": {
    "ExecuteTime": {
     "end_time": "2025-04-02T17:18:15.084142Z",
     "start_time": "2025-04-02T17:18:15.065139Z"
    }
   },
   "cell_type": "code",
   "source": "from IPython.display import Markdown, display\n",
   "id": "869a1e6ee84dc67e",
   "outputs": [],
   "execution_count": 5
  },
  {
   "cell_type": "code",
   "id": "initial_id",
   "metadata": {
    "collapsed": true,
    "ExecuteTime": {
     "end_time": "2025-04-02T17:18:19.746350Z",
     "start_time": "2025-04-02T17:18:19.707481Z"
    }
   },
   "source": [
    "#define a class for interaction in higher level language\n",
    "class Conversation:\n",
    "    def __init__(self, system=\"\"):\n",
    "        self.messages = []\n",
    "        if system:\n",
    "            self.messages.append({\"role\": \"system\", \"content\": system})\n",
    "    def generate(self, user_question, model=405, temp=0.2): #it seems the model is not performing much better, NO THE PROBLEM WAS \n",
    "        #THE TEMPERATURE. NOW ITS PERFORMING MUCH BETTER\n",
    "        self.messages.append({\"role\": \"user\", \"content\":user_question})\n",
    "        response = llama31(self.messages, model, temperature=temp)\n",
    "        self.messages.append({\"role\":\"assistant\", \"content\":response})\n",
    "        return response\n",
    "        "
   ],
   "outputs": [],
   "execution_count": 6
  },
  {
   "metadata": {
    "ExecuteTime": {
     "end_time": "2025-04-02T17:18:27.295891Z",
     "start_time": "2025-04-02T17:18:24.325974Z"
    }
   },
   "cell_type": "code",
   "source": [
    "system_message = \"You are a classical dance coreographer for intermediate\\\n",
    "ballet students. You are responsible for designing a whole barre class.\\\n",
    "1) Define a sequence with appropiate transitions and detailed instructions for transitions and \\\n",
    "movements and offer a preparation and an ending phrase\\\n",
    "2) Name all positions for the body, the feet and the arms while presenting the sequence\\\n",
    "3) Justify your decisions\" \n",
    "conv = Conversation(system_message)\n",
    "dance_query = \"\"\" \n",
    "You will make a sequence with pliés. The following are your tasks\n",
    "These are must haves in the sequence:\n",
    "a) Don't forget to include plies in second position with one foot in relevé and plies \\\n",
    "in fifth position.\n",
    "b) Don't forget to finish each of the position with cambrés\n",
    "c) First present the sequence for one side and then turn to the other side\n",
    "d) Clarify what kind of music/tempo would better fit the sequence and include approximate \\\n",
    "timing for each exercise\n",
    "\"\"\"\n",
    "response = conv.generate(dance_query)\n",
    "from IPython.display import Markdown, display\n",
    "\n",
    "display(Markdown(response))"
   ],
   "id": "959c5d9b199beed",
   "outputs": [
    {
     "ename": "Exception",
     "evalue": "Request failed: 401 Client Error: Unauthorized for url: https://api.together.xyz/v1/chat/completions",
     "output_type": "error",
     "traceback": [
      "\u001B[31m---------------------------------------------------------------------------\u001B[39m",
      "\u001B[31mHTTPError\u001B[39m                                 Traceback (most recent call last)",
      "\u001B[36mCell\u001B[39m\u001B[36m \u001B[39m\u001B[32mIn[4]\u001B[39m\u001B[32m, line 61\u001B[39m, in \u001B[36mllama31\u001B[39m\u001B[34m(prompt_or_messages, model_size, temperature, raw, debug)\u001B[39m\n\u001B[32m     58\u001B[39m response = requests.post(\n\u001B[32m     59\u001B[39m     url, headers=headers, data=json.dumps(payload)\n\u001B[32m     60\u001B[39m )\n\u001B[32m---> \u001B[39m\u001B[32m61\u001B[39m \u001B[43mresponse\u001B[49m\u001B[43m.\u001B[49m\u001B[43mraise_for_status\u001B[49m\u001B[43m(\u001B[49m\u001B[43m)\u001B[49m  \u001B[38;5;66;03m# Raises HTTPError for bad responses\u001B[39;00m\n\u001B[32m     62\u001B[39m res = response.json()\n",
      "\u001B[36mFile \u001B[39m\u001B[32m~\\PycharmProjects\\MultiModal_Llama\\venvs\\Lib\\site-packages\\requests\\models.py:1024\u001B[39m, in \u001B[36mResponse.raise_for_status\u001B[39m\u001B[34m(self)\u001B[39m\n\u001B[32m   1023\u001B[39m \u001B[38;5;28;01mif\u001B[39;00m http_error_msg:\n\u001B[32m-> \u001B[39m\u001B[32m1024\u001B[39m     \u001B[38;5;28;01mraise\u001B[39;00m HTTPError(http_error_msg, response=\u001B[38;5;28mself\u001B[39m)\n",
      "\u001B[31mHTTPError\u001B[39m: 401 Client Error: Unauthorized for url: https://api.together.xyz/v1/chat/completions",
      "\nDuring handling of the above exception, another exception occurred:\n",
      "\u001B[31mException\u001B[39m                                 Traceback (most recent call last)",
      "\u001B[36mCell\u001B[39m\u001B[36m \u001B[39m\u001B[32mIn[7]\u001B[39m\u001B[32m, line 14\u001B[39m\n\u001B[32m      6\u001B[39m conv = Conversation(system_message)\n\u001B[32m      7\u001B[39m dance_query = \u001B[33m\"\"\"\u001B[39m\u001B[33m \u001B[39m\n\u001B[32m      8\u001B[39m \u001B[33mYou will start with pliés. The following are your tasks\u001B[39m\n\u001B[32m      9\u001B[39m \u001B[33mThese are must haves in the sequence:\u001B[39m\n\u001B[32m   (...)\u001B[39m\u001B[32m     12\u001B[39m \u001B[33mb) Don\u001B[39m\u001B[33m'\u001B[39m\u001B[33mt forget to finish each of the position with cambrés\u001B[39m\n\u001B[32m     13\u001B[39m \u001B[33m\"\"\"\u001B[39m\n\u001B[32m---> \u001B[39m\u001B[32m14\u001B[39m response = \u001B[43mconv\u001B[49m\u001B[43m.\u001B[49m\u001B[43mgenerate\u001B[49m\u001B[43m(\u001B[49m\u001B[43mdance_query\u001B[49m\u001B[43m)\u001B[49m\n\u001B[32m     15\u001B[39m \u001B[38;5;28;01mfrom\u001B[39;00m\u001B[38;5;250m \u001B[39m\u001B[34;01mIPython\u001B[39;00m\u001B[34;01m.\u001B[39;00m\u001B[34;01mdisplay\u001B[39;00m\u001B[38;5;250m \u001B[39m\u001B[38;5;28;01mimport\u001B[39;00m Markdown, display\n\u001B[32m     17\u001B[39m display(Markdown(response))\n",
      "\u001B[36mCell\u001B[39m\u001B[36m \u001B[39m\u001B[32mIn[6]\u001B[39m\u001B[32m, line 9\u001B[39m, in \u001B[36mConversation.generate\u001B[39m\u001B[34m(self, user_question, model, temp)\u001B[39m\n\u001B[32m      7\u001B[39m \u001B[38;5;28;01mdef\u001B[39;00m\u001B[38;5;250m \u001B[39m\u001B[34mgenerate\u001B[39m(\u001B[38;5;28mself\u001B[39m, user_question, model=\u001B[32m8\u001B[39m, temp=\u001B[32m0\u001B[39m):\n\u001B[32m      8\u001B[39m     \u001B[38;5;28mself\u001B[39m.messages.append({\u001B[33m\"\u001B[39m\u001B[33mrole\u001B[39m\u001B[33m\"\u001B[39m: \u001B[33m\"\u001B[39m\u001B[33muser\u001B[39m\u001B[33m\"\u001B[39m, \u001B[33m\"\u001B[39m\u001B[33mcontent\u001B[39m\u001B[33m\"\u001B[39m:user_question})\n\u001B[32m----> \u001B[39m\u001B[32m9\u001B[39m     response = \u001B[43mllama31\u001B[49m\u001B[43m(\u001B[49m\u001B[38;5;28;43mself\u001B[39;49m\u001B[43m.\u001B[49m\u001B[43mmessages\u001B[49m\u001B[43m,\u001B[49m\u001B[43m \u001B[49m\u001B[43mmodel\u001B[49m\u001B[43m,\u001B[49m\u001B[43m \u001B[49m\u001B[43mtemperature\u001B[49m\u001B[43m=\u001B[49m\u001B[43mtemp\u001B[49m\u001B[43m)\u001B[49m\n\u001B[32m     10\u001B[39m     \u001B[38;5;28mself\u001B[39m.messages.append({\u001B[33m\"\u001B[39m\u001B[33mrole\u001B[39m\u001B[33m\"\u001B[39m:\u001B[33m\"\u001B[39m\u001B[33massistant\u001B[39m\u001B[33m\"\u001B[39m, \u001B[33m\"\u001B[39m\u001B[33mcontent\u001B[39m\u001B[33m\"\u001B[39m:response})\n\u001B[32m     11\u001B[39m     \u001B[38;5;28;01mreturn\u001B[39;00m response\n",
      "\u001B[36mCell\u001B[39m\u001B[36m \u001B[39m\u001B[32mIn[4]\u001B[39m\u001B[32m, line 64\u001B[39m, in \u001B[36mllama31\u001B[39m\u001B[34m(prompt_or_messages, model_size, temperature, raw, debug)\u001B[39m\n\u001B[32m     62\u001B[39m     res = response.json()\n\u001B[32m     63\u001B[39m \u001B[38;5;28;01mexcept\u001B[39;00m requests.exceptions.RequestException \u001B[38;5;28;01mas\u001B[39;00m e:\n\u001B[32m---> \u001B[39m\u001B[32m64\u001B[39m     \u001B[38;5;28;01mraise\u001B[39;00m \u001B[38;5;167;01mException\u001B[39;00m(\u001B[33mf\u001B[39m\u001B[33m\"\u001B[39m\u001B[33mRequest failed: \u001B[39m\u001B[38;5;132;01m{\u001B[39;00me\u001B[38;5;132;01m}\u001B[39;00m\u001B[33m\"\u001B[39m)\n\u001B[32m     66\u001B[39m \u001B[38;5;28;01mif\u001B[39;00m \u001B[33m'\u001B[39m\u001B[33merror\u001B[39m\u001B[33m'\u001B[39m \u001B[38;5;129;01min\u001B[39;00m res:\n\u001B[32m     67\u001B[39m     \u001B[38;5;28;01mraise\u001B[39;00m \u001B[38;5;167;01mException\u001B[39;00m(\u001B[33mf\u001B[39m\u001B[33m\"\u001B[39m\u001B[33mAPI Error: \u001B[39m\u001B[38;5;132;01m{\u001B[39;00mres[\u001B[33m'\u001B[39m\u001B[33merror\u001B[39m\u001B[33m'\u001B[39m]\u001B[38;5;132;01m}\u001B[39;00m\u001B[33m\"\u001B[39m)\n",
      "\u001B[31mException\u001B[39m: Request failed: 401 Client Error: Unauthorized for url: https://api.together.xyz/v1/chat/completions"
     ]
    }
   ],
   "execution_count": 7
  },
  {
   "metadata": {
    "ExecuteTime": {
     "end_time": "2025-04-02T18:15:57.537869Z",
     "start_time": "2025-04-02T18:15:57.399922Z"
    }
   },
   "cell_type": "code",
   "source": [
    "response = \"**Sequence: Pliés with Relevé and Cambré**\\n\\n**Music:** A moderate tempo with a 4/4 time signature, ideally a classical piano piece with a steady and soothing rhythm. (e.g., Chopin's Nocturne in E-flat major, Op. 9, No. 2)\\n\\n**Tempo:** Moderate, around 96-100 beats per minute (BPM)\\n\\n**Sequence for one side (right):**\\n\\n1. **Pliés in First Position** (4 counts)\\n\\t* Feet: Heels together, toes turned out\\n\\t* Arms: Relaxed, with a slight curve, in first position (palms facing downwards)\\n\\t* Body: Engaged core, lengthened spine, and relaxed shoulders\\n\\t* Movement: Slowly lower the body down into a plié, keeping the back straight and the knees over the toes\\n\\t* Transition: Straighten the legs and rise to the starting position\\n2. **Pliés in Second Position with Relevé (Right Foot)** (4 counts)\\n\\t* Feet: Right foot in relevé, left foot on the ground in second position\\n\\t* Arms: Still in first position\\n\\t* Body: Maintain the engaged core and lengthened spine\\n\\t* Movement: Lower the body down into a plié, keeping the right foot in relevé and the left foot on the ground\\n\\t* Transition: Straighten the legs and rise to the starting position\\n\\t* Cambré: As you rise, stretch the right arm up and over the head, keeping the left arm in first position (2 counts)\\n3. **Pliés in Fifth Position (Right Foot in Front)** (4 counts)\\n\\t* Feet: Right foot in front, left foot behind in fifth position\\n\\t* Arms: Return to first position\\n\\t* Body: Maintain the engaged core and lengthened spine\\n\\t* Movement: Lower the body down into a plié, keeping the back straight and the knees over the toes\\n\\t* Transition: Straighten the legs and rise to the starting position\\n\\t* Cambré: As you rise, stretch the right arm up and over the head, keeping the left arm in first position (2 counts)\\n\\n**Turn to the other side (left):**\\n\\nRepeat the sequence on the left side, switching the positions of the feet and arms accordingly.\\n\\n**Sequence for the left side:**\\n\\n1. **Pliés in First Position** (4 counts)\\n\\t* Feet: Heels together, toes turned out\\n\\t* Arms: Relaxed, with a slight curve, in first position (palms facing downwards)\\n\\t* Body: Engaged core, lengthened spine, and relaxed shoulders\\n\\t* Movement: Slowly lower the body down into a plié, keeping the back straight and the knees over the toes\\n\\t* Transition: Straighten the legs and rise to the starting position\\n2. **Pliés in Second Position with Relevé (Left Foot)** (4 counts)\\n\\t* Feet: Left foot in relevé, right foot on the ground in second position\\n\\t* Arms: Still in first position\\n\\t* Body: Maintain the engaged core and lengthened spine\\n\\t* Movement: Lower the body down into a plié, keeping the left foot in relevé and the right foot on the ground\\n\\t* Transition: Straighten the legs and rise to the starting position\\n\\t* Cambré: As you rise, stretch the left arm up and over the head, keeping the right arm in first position (2 counts)\\n3. **Pliés in Fifth Position (Left Foot in Front)** (4 counts)\\n\\t* Feet: Left foot in front, right foot behind in fifth position\\n\\t* Arms: Return to first position\\n\\t* Body: Maintain the engaged core and lengthened spine\\n\\t* Movement: Lower the body down into a plié, keeping the back straight and the knees over the toes\\n\\t* Transition: Straighten the legs and rise to the starting position\\n\\t* Cambré: As you rise, stretch the left arm up and over the head, keeping the right arm in first position (2 counts)\\n\\n**Preparation (4 counts):**\\n\\nStand in first position, with feet together and arms relaxed by your sides. Take a deep breath in, engaging your core and lengthening your spine. As you exhale, slowly raise your arms to first position, keeping them relaxed and curved.\\n\\n**Ending Phrase (4 counts):**\\n\\nFinish the sequence in first position, with feet together and arms in first position. Take a deep breath in, and as you exhale, slowly lower your arms to your sides, keeping them relaxed. Take a final deep breath in, and as you exhale, bow your head slightly, keeping your core engaged and your spine lengthened.\\n\\n**Justification:**\\n\\nThis sequence is designed to focus on pliés, which are a fundamental movement in ballet. By incorporating relevé and cambré, the sequence challenges the dancers to maintain balance and control while moving through different positions. The moderate tempo and 4/4 time signature provide a steady and soothing rhythm, allowing the dancers to focus on their technique and movement quality. The sequence is structured to gradually increase in difficulty, starting with pliés in first position and progressing to more challenging movements in second and fifth positions. The cambré movements add an element of expression and musicality, allowing the dancers to connect with the music and convey emotion through their movement.\"\n",
    "display(Markdown(response))"
   ],
   "id": "7e13e590faeedd2b",
   "outputs": [
    {
     "data": {
      "text/plain": [
       "<IPython.core.display.Markdown object>"
      ],
      "text/markdown": "**Sequence: Pliés with Relevé and Cambré**\n\n**Music:** A moderate tempo with a 4/4 time signature, ideally a classical piano piece with a steady and soothing rhythm. (e.g., Chopin's Nocturne in E-flat major, Op. 9, No. 2)\n\n**Tempo:** Moderate, around 96-100 beats per minute (BPM)\n\n**Sequence for one side (right):**\n\n1. **Pliés in First Position** (4 counts)\n\t* Feet: Heels together, toes turned out\n\t* Arms: Relaxed, with a slight curve, in first position (palms facing downwards)\n\t* Body: Engaged core, lengthened spine, and relaxed shoulders\n\t* Movement: Slowly lower the body down into a plié, keeping the back straight and the knees over the toes\n\t* Transition: Straighten the legs and rise to the starting position\n2. **Pliés in Second Position with Relevé (Right Foot)** (4 counts)\n\t* Feet: Right foot in relevé, left foot on the ground in second position\n\t* Arms: Still in first position\n\t* Body: Maintain the engaged core and lengthened spine\n\t* Movement: Lower the body down into a plié, keeping the right foot in relevé and the left foot on the ground\n\t* Transition: Straighten the legs and rise to the starting position\n\t* Cambré: As you rise, stretch the right arm up and over the head, keeping the left arm in first position (2 counts)\n3. **Pliés in Fifth Position (Right Foot in Front)** (4 counts)\n\t* Feet: Right foot in front, left foot behind in fifth position\n\t* Arms: Return to first position\n\t* Body: Maintain the engaged core and lengthened spine\n\t* Movement: Lower the body down into a plié, keeping the back straight and the knees over the toes\n\t* Transition: Straighten the legs and rise to the starting position\n\t* Cambré: As you rise, stretch the right arm up and over the head, keeping the left arm in first position (2 counts)\n\n**Turn to the other side (left):**\n\nRepeat the sequence on the left side, switching the positions of the feet and arms accordingly.\n\n**Sequence for the left side:**\n\n1. **Pliés in First Position** (4 counts)\n\t* Feet: Heels together, toes turned out\n\t* Arms: Relaxed, with a slight curve, in first position (palms facing downwards)\n\t* Body: Engaged core, lengthened spine, and relaxed shoulders\n\t* Movement: Slowly lower the body down into a plié, keeping the back straight and the knees over the toes\n\t* Transition: Straighten the legs and rise to the starting position\n2. **Pliés in Second Position with Relevé (Left Foot)** (4 counts)\n\t* Feet: Left foot in relevé, right foot on the ground in second position\n\t* Arms: Still in first position\n\t* Body: Maintain the engaged core and lengthened spine\n\t* Movement: Lower the body down into a plié, keeping the left foot in relevé and the right foot on the ground\n\t* Transition: Straighten the legs and rise to the starting position\n\t* Cambré: As you rise, stretch the left arm up and over the head, keeping the right arm in first position (2 counts)\n3. **Pliés in Fifth Position (Left Foot in Front)** (4 counts)\n\t* Feet: Left foot in front, right foot behind in fifth position\n\t* Arms: Return to first position\n\t* Body: Maintain the engaged core and lengthened spine\n\t* Movement: Lower the body down into a plié, keeping the back straight and the knees over the toes\n\t* Transition: Straighten the legs and rise to the starting position\n\t* Cambré: As you rise, stretch the left arm up and over the head, keeping the right arm in first position (2 counts)\n\n**Preparation (4 counts):**\n\nStand in first position, with feet together and arms relaxed by your sides. Take a deep breath in, engaging your core and lengthening your spine. As you exhale, slowly raise your arms to first position, keeping them relaxed and curved.\n\n**Ending Phrase (4 counts):**\n\nFinish the sequence in first position, with feet together and arms in first position. Take a deep breath in, and as you exhale, slowly lower your arms to your sides, keeping them relaxed. Take a final deep breath in, and as you exhale, bow your head slightly, keeping your core engaged and your spine lengthened.\n\n**Justification:**\n\nThis sequence is designed to focus on pliés, which are a fundamental movement in ballet. By incorporating relevé and cambré, the sequence challenges the dancers to maintain balance and control while moving through different positions. The moderate tempo and 4/4 time signature provide a steady and soothing rhythm, allowing the dancers to focus on their technique and movement quality. The sequence is structured to gradually increase in difficulty, starting with pliés in first position and progressing to more challenging movements in second and fifth positions. The cambré movements add an element of expression and musicality, allowing the dancers to connect with the music and convey emotion through their movement."
     },
     "metadata": {},
     "output_type": "display_data"
    }
   ],
   "execution_count": 9
  },
  {
   "metadata": {},
   "cell_type": "code",
   "outputs": [],
   "execution_count": null,
   "source": [
    "response = conv.generate(\"Now you will design a sequence for battement tendu.\\\n",
    "                         You should not focus on doing all  movements in all positions but,\\\n",
    "                         to make tendus to all directions\\\n",
    "                         These are must haves:\\\n",
    "                         a) Fondu \\\n",
    "                         b) Cou de Pied \\\n",
    "                         c) Développé\\\n",
    "                         d) Cloche \")\n",
    "display(Markdown(response)) #=! print"
   ],
   "id": "cb514e65edd84d5b"
  },
  {
   "metadata": {
    "ExecuteTime": {
     "end_time": "2025-04-02T18:20:29.467759Z",
     "start_time": "2025-04-02T18:20:29.031465Z"
    }
   },
   "cell_type": "code",
   "source": [
    "response = '**Sequence: Battement Tendu with Directions and Added Movements**\\n\\n**Music:** A moderate tempo with a 4/4 time signature, ideally a classical piano piece with a steady and lively rhythm. (e.g., Debussy\\'s \"Clair de Lune\")\\n\\n**Tempo:** Moderate, around 100-104 beats per minute (BPM)\\n\\n**Sequence:**\\n\\n**Part 1: Tendus to the Front and Sides**\\n\\n1. **Battement Tendu to the Front** (2 counts)\\n\\t* Feet: First position, with the working foot (right) brushing out to the front\\n\\t* Arms: Relaxed, with a slight curve, in first position (palms facing downwards)\\n\\t* Body: Engaged core, lengthened spine, and relaxed shoulders\\n\\t* Movement: Brush the working foot out to the front, keeping the knee straight and the toe pointed\\n\\t* Transition: Bring the working foot back to first position\\n2. **Battement Tendu to the Side (Right)** (2 counts)\\n\\t* Feet: First position, with the working foot (right) brushing out to the right side\\n\\t* Arms: Still in first position\\n\\t* Body: Maintain the engaged core and lengthened spine\\n\\t* Movement: Brush the working foot out to the right side, keeping the knee straight and the toe pointed\\n\\t* Transition: Bring the working foot back to first position\\n3. **Battement Tendu to the Side (Left)** (2 counts)\\n\\t* Feet: First position, with the working foot (left) brushing out to the left side\\n\\t* Arms: Still in first position\\n\\t* Body: Maintain the engaged core and lengthened spine\\n\\t* Movement: Brush the working foot out to the left side, keeping the knee straight and the toe pointed\\n\\t* Transition: Bring the working foot back to first position\\n\\n**Part 2: Tendus to the Back and Added Movements**\\n\\n1. **Battement Tendu to the Back** (2 counts)\\n\\t* Feet: First position, with the working foot (right) brushing out to the back\\n\\t* Arms: Still in first position\\n\\t* Body: Maintain the engaged core and lengthened spine\\n\\t* Movement: Brush the working foot out to the back, keeping the knee straight and the toe pointed\\n\\t* Transition: Bring the working foot back to first position\\n2. **Fondu** (2 counts)\\n\\t* Feet: First position, with the working foot (right) sinking into a fondu\\n\\t* Arms: Still in first position\\n\\t* Body: Maintain the engaged core and lengthened spine\\n\\t* Movement: Slowly lower the working foot into a fondu, keeping the back straight and the knee bent\\n\\t* Transition: Straighten the working leg and rise to the starting position\\n3. **Cou de Pied** (2 counts)\\n\\t* Feet: First position, with the working foot (right) drawing to the supporting leg\\n\\t* Arms: Still in first position\\n\\t* Body: Maintain the engaged core and lengthened spine\\n\\t* Movement: Draw the working foot to the supporting leg, keeping the knee bent and the toe pointed\\n\\t* Transition: Release the working foot and bring it back to first position\\n4. **Développé** (4 counts)\\n\\t* Feet: First position, with the working foot (right) unfolding into a développé\\n\\t* Arms: Still in first position\\n\\t* Body: Maintain the engaged core and lengthened spine\\n\\t* Movement: Slowly unfold the working leg into a développé, keeping the back straight and the knee straight\\n\\t* Transition: Bring the working leg back to first position\\n5. **Cloche** (4 counts)\\n\\t* Feet: First position, with the working foot (right) brushing out to the front and then to the back\\n\\t* Arms: Still in first position\\n\\t* Body: Maintain the engaged core and lengthened spine\\n\\t* Movement: Brush the working foot out to the front and then to the back, keeping the knee straight and the toe pointed\\n\\t* Transition: Bring the working foot back to first position\\n\\n**Preparation (4 counts):**\\n\\nStand in first position, with feet together and arms relaxed by your sides. Take a deep breath in, engaging your core and lengthening your spine. As you exhale, slowly raise your arms to first position, keeping them relaxed and curved.\\n\\n**Ending Phrase (4 counts):**\\n\\nFinish the sequence in first position, with feet together and arms in first position. Take a deep breath in, and as you exhale, slowly lower your arms to your sides, keeping them relaxed. Take a final deep breath in, and as you exhale, bow your head slightly, keeping your core engaged and your spine lengthened.\\n\\n**Justification:**\\n\\nThis sequence is designed to focus on battement tendu, with an emphasis on exploring different directions and adding various movements. The sequence begins with tendus to the front and sides, establishing a strong foundation and sense of direction. The added movements, such as fondu, cou de pied, and développé, challenge the dancers to control their movements and transitions. The cloche movement adds a dynamic element, requiring the dancers to quickly change direction and maintain balance. The moderate tempo and 4/4 time signature provide a steady and lively rhythm, allowing the dancers to focus on their technique and movement quality.'\n",
    "display(Markdown(response))"
   ],
   "id": "7b1e1765ca1f7086",
   "outputs": [
    {
     "data": {
      "text/plain": [
       "<IPython.core.display.Markdown object>"
      ],
      "text/markdown": "**Sequence: Battement Tendu with Directions and Added Movements**\n\n**Music:** A moderate tempo with a 4/4 time signature, ideally a classical piano piece with a steady and lively rhythm. (e.g., Debussy's \"Clair de Lune\")\n\n**Tempo:** Moderate, around 100-104 beats per minute (BPM)\n\n**Sequence:**\n\n**Part 1: Tendus to the Front and Sides**\n\n1. **Battement Tendu to the Front** (2 counts)\n\t* Feet: First position, with the working foot (right) brushing out to the front\n\t* Arms: Relaxed, with a slight curve, in first position (palms facing downwards)\n\t* Body: Engaged core, lengthened spine, and relaxed shoulders\n\t* Movement: Brush the working foot out to the front, keeping the knee straight and the toe pointed\n\t* Transition: Bring the working foot back to first position\n2. **Battement Tendu to the Side (Right)** (2 counts)\n\t* Feet: First position, with the working foot (right) brushing out to the right side\n\t* Arms: Still in first position\n\t* Body: Maintain the engaged core and lengthened spine\n\t* Movement: Brush the working foot out to the right side, keeping the knee straight and the toe pointed\n\t* Transition: Bring the working foot back to first position\n3. **Battement Tendu to the Side (Left)** (2 counts)\n\t* Feet: First position, with the working foot (left) brushing out to the left side\n\t* Arms: Still in first position\n\t* Body: Maintain the engaged core and lengthened spine\n\t* Movement: Brush the working foot out to the left side, keeping the knee straight and the toe pointed\n\t* Transition: Bring the working foot back to first position\n\n**Part 2: Tendus to the Back and Added Movements**\n\n1. **Battement Tendu to the Back** (2 counts)\n\t* Feet: First position, with the working foot (right) brushing out to the back\n\t* Arms: Still in first position\n\t* Body: Maintain the engaged core and lengthened spine\n\t* Movement: Brush the working foot out to the back, keeping the knee straight and the toe pointed\n\t* Transition: Bring the working foot back to first position\n2. **Fondu** (2 counts)\n\t* Feet: First position, with the working foot (right) sinking into a fondu\n\t* Arms: Still in first position\n\t* Body: Maintain the engaged core and lengthened spine\n\t* Movement: Slowly lower the working foot into a fondu, keeping the back straight and the knee bent\n\t* Transition: Straighten the working leg and rise to the starting position\n3. **Cou de Pied** (2 counts)\n\t* Feet: First position, with the working foot (right) drawing to the supporting leg\n\t* Arms: Still in first position\n\t* Body: Maintain the engaged core and lengthened spine\n\t* Movement: Draw the working foot to the supporting leg, keeping the knee bent and the toe pointed\n\t* Transition: Release the working foot and bring it back to first position\n4. **Développé** (4 counts)\n\t* Feet: First position, with the working foot (right) unfolding into a développé\n\t* Arms: Still in first position\n\t* Body: Maintain the engaged core and lengthened spine\n\t* Movement: Slowly unfold the working leg into a développé, keeping the back straight and the knee straight\n\t* Transition: Bring the working leg back to first position\n5. **Cloche** (4 counts)\n\t* Feet: First position, with the working foot (right) brushing out to the front and then to the back\n\t* Arms: Still in first position\n\t* Body: Maintain the engaged core and lengthened spine\n\t* Movement: Brush the working foot out to the front and then to the back, keeping the knee straight and the toe pointed\n\t* Transition: Bring the working foot back to first position\n\n**Preparation (4 counts):**\n\nStand in first position, with feet together and arms relaxed by your sides. Take a deep breath in, engaging your core and lengthening your spine. As you exhale, slowly raise your arms to first position, keeping them relaxed and curved.\n\n**Ending Phrase (4 counts):**\n\nFinish the sequence in first position, with feet together and arms in first position. Take a deep breath in, and as you exhale, slowly lower your arms to your sides, keeping them relaxed. Take a final deep breath in, and as you exhale, bow your head slightly, keeping your core engaged and your spine lengthened.\n\n**Justification:**\n\nThis sequence is designed to focus on battement tendu, with an emphasis on exploring different directions and adding various movements. The sequence begins with tendus to the front and sides, establishing a strong foundation and sense of direction. The added movements, such as fondu, cou de pied, and développé, challenge the dancers to control their movements and transitions. The cloche movement adds a dynamic element, requiring the dancers to quickly change direction and maintain balance. The moderate tempo and 4/4 time signature provide a steady and lively rhythm, allowing the dancers to focus on their technique and movement quality."
     },
     "metadata": {},
     "output_type": "display_data"
    }
   ],
   "execution_count": 12
  },
  {
   "metadata": {},
   "cell_type": "code",
   "outputs": [],
   "execution_count": null,
   "source": [
    "response = conv.generate(\"Now you will design a sequence for rond de jambe.\\\n",
    "                         You should not focus on doing all  movements in all positions but,\\\n",
    "                         to make rond de jambe to all directions\\\n",
    "                         These are must haves:\\\n",
    "                         a) Petit battement sur le coud de pied \\\n",
    "                         b) Retiré/Passé \\\n",
    "                         c) Attitude avec plié\")\n",
    "display(Markdown(response))"
   ],
   "id": "fd0c0201ef1cfed"
  },
  {
   "metadata": {
    "ExecuteTime": {
     "end_time": "2025-04-02T18:21:42.476578Z",
     "start_time": "2025-04-02T18:21:42.203485Z"
    }
   },
   "cell_type": "code",
   "source": [
    "response =  \"**Sequence: Rond de Jambe with Directions and Added Movements**\\n\\n**Music:** A moderate tempo with a 3/4 time signature, ideally a classical piano piece with a steady and lilting rhythm. (e.g., Chopin's Waltz in D-flat major, Op. 64, No. 1)\\n\\n**Tempo:** Moderate, around 108-112 beats per minute (BPM)\\n\\n**Sequence:**\\n\\n**Part 1: Rond de Jambe to the Front and Sides**\\n\\n1. **Rond de Jambe à Terre to the Front** (4 counts)\\n\\t* Feet: First position, with the working foot (right) making small circles on the floor\\n\\t* Arms: Relaxed, with a slight curve, in first position (palms facing downwards)\\n\\t* Body: Engaged core, lengthened spine, and relaxed shoulders\\n\\t* Movement: Make small circles with the working foot, starting from the front and moving clockwise\\n\\t* Transition: Bring the working foot back to first position\\n2. **Rond de Jambe à Terre to the Side (Right)** (4 counts)\\n\\t* Feet: First position, with the working foot (right) making small circles on the floor to the right side\\n\\t* Arms: Still in first position\\n\\t* Body: Maintain the engaged core and lengthened spine\\n\\t* Movement: Make small circles with the working foot, starting from the right side and moving clockwise\\n\\t* Transition: Bring the working foot back to first position\\n3. **Rond de Jambe à Terre to the Side (Left)** (4 counts)\\n\\t* Feet: First position, with the working foot (left) making small circles on the floor to the left side\\n\\t* Arms: Still in first position\\n\\t* Body: Maintain the engaged core and lengthened spine\\n\\t* Movement: Make small circles with the working foot, starting from the left side and moving clockwise\\n\\t* Transition: Bring the working foot back to first position\\n\\n**Part 2: Rond de Jambe to the Back and Added Movements**\\n\\n1. **Rond de Jambe en l'Air to the Back** (4 counts)\\n\\t* Feet: First position, with the working foot (right) making small circles in the air to the back\\n\\t* Arms: Still in first position\\n\\t* Body: Maintain the engaged core and lengthened spine\\n\\t* Movement: Make small circles with the working foot, starting from the back and moving clockwise\\n\\t* Transition: Bring the working foot back to first position\\n2. **Petit Battement sur le Coud de Pied** (2 counts)\\n\\t* Feet: First position, with the working foot (right) brushing against the supporting leg\\n\\t* Arms: Still in first position\\n\\t* Body: Maintain the engaged core and lengthened spine\\n\\t* Movement: Brush the working foot against the supporting leg, keeping the knee straight and the toe pointed\\n\\t* Transition: Release the working foot and bring it back to first position\\n3. **Retiré/Passé** (2 counts)\\n\\t* Feet: First position, with the working foot (right) drawing to the supporting leg\\n\\t* Arms: Still in first position\\n\\t* Body: Maintain the engaged core and lengthened spine\\n\\t* Movement: Draw the working foot to the supporting leg, keeping the knee bent and the toe pointed\\n\\t* Transition: Release the working foot and bring it back to first position\\n4. **Attitude avec Plié** (4 counts)\\n\\t* Feet: First position, with the working foot (right) lifting into attitude\\n\\t* Arms: Still in first position\\n\\t* Body: Maintain the engaged core and lengthened spine\\n\\t* Movement: Lift the working leg into attitude, keeping the back straight and the knee bent\\n\\t* Transition: Lower the working leg back to first position, pliéing the supporting leg\\n\\n**Preparation (4 counts):**\\n\\nStand in first position, with feet together and arms relaxed by your sides. Take a deep breath in, engaging your core and lengthening your spine. As you exhale, slowly raise your arms to first position, keeping them relaxed and curved.\\n\\n**Ending Phrase (4 counts):**\\n\\nFinish the sequence in first position, with feet together and arms in first position. Take a deep breath in, and as you exhale, slowly lower your arms to your sides, keeping them relaxed. Take a final deep breath in, and as you exhale, bow your head slightly, keeping your core engaged and your spine lengthened.\\n\\n**Justification:**\\n\\nThis sequence is designed to focus on rond de jambe, with an emphasis on exploring different directions and adding various movements. The sequence begins with rond de jambe à terre to the front and sides, establishing a strong foundation and sense of direction. The added movements, such as petit battement sur le coud de pied, retiré/passé, and attitude avec plié, challenge the dancers to control their movements and transitions. The moderate tempo and 3/4 time signature provide a steady and lilting rhythm, allowing the dancers to focus on their technique and movement quality.\"\n",
    "display(Markdown(response))"
   ],
   "id": "48587f152d5a94a9",
   "outputs": [
    {
     "data": {
      "text/plain": [
       "<IPython.core.display.Markdown object>"
      ],
      "text/markdown": "**Sequence: Rond de Jambe with Directions and Added Movements**\n\n**Music:** A moderate tempo with a 3/4 time signature, ideally a classical piano piece with a steady and lilting rhythm. (e.g., Chopin's Waltz in D-flat major, Op. 64, No. 1)\n\n**Tempo:** Moderate, around 108-112 beats per minute (BPM)\n\n**Sequence:**\n\n**Part 1: Rond de Jambe to the Front and Sides**\n\n1. **Rond de Jambe à Terre to the Front** (4 counts)\n\t* Feet: First position, with the working foot (right) making small circles on the floor\n\t* Arms: Relaxed, with a slight curve, in first position (palms facing downwards)\n\t* Body: Engaged core, lengthened spine, and relaxed shoulders\n\t* Movement: Make small circles with the working foot, starting from the front and moving clockwise\n\t* Transition: Bring the working foot back to first position\n2. **Rond de Jambe à Terre to the Side (Right)** (4 counts)\n\t* Feet: First position, with the working foot (right) making small circles on the floor to the right side\n\t* Arms: Still in first position\n\t* Body: Maintain the engaged core and lengthened spine\n\t* Movement: Make small circles with the working foot, starting from the right side and moving clockwise\n\t* Transition: Bring the working foot back to first position\n3. **Rond de Jambe à Terre to the Side (Left)** (4 counts)\n\t* Feet: First position, with the working foot (left) making small circles on the floor to the left side\n\t* Arms: Still in first position\n\t* Body: Maintain the engaged core and lengthened spine\n\t* Movement: Make small circles with the working foot, starting from the left side and moving clockwise\n\t* Transition: Bring the working foot back to first position\n\n**Part 2: Rond de Jambe to the Back and Added Movements**\n\n1. **Rond de Jambe en l'Air to the Back** (4 counts)\n\t* Feet: First position, with the working foot (right) making small circles in the air to the back\n\t* Arms: Still in first position\n\t* Body: Maintain the engaged core and lengthened spine\n\t* Movement: Make small circles with the working foot, starting from the back and moving clockwise\n\t* Transition: Bring the working foot back to first position\n2. **Petit Battement sur le Coud de Pied** (2 counts)\n\t* Feet: First position, with the working foot (right) brushing against the supporting leg\n\t* Arms: Still in first position\n\t* Body: Maintain the engaged core and lengthened spine\n\t* Movement: Brush the working foot against the supporting leg, keeping the knee straight and the toe pointed\n\t* Transition: Release the working foot and bring it back to first position\n3. **Retiré/Passé** (2 counts)\n\t* Feet: First position, with the working foot (right) drawing to the supporting leg\n\t* Arms: Still in first position\n\t* Body: Maintain the engaged core and lengthened spine\n\t* Movement: Draw the working foot to the supporting leg, keeping the knee bent and the toe pointed\n\t* Transition: Release the working foot and bring it back to first position\n4. **Attitude avec Plié** (4 counts)\n\t* Feet: First position, with the working foot (right) lifting into attitude\n\t* Arms: Still in first position\n\t* Body: Maintain the engaged core and lengthened spine\n\t* Movement: Lift the working leg into attitude, keeping the back straight and the knee bent\n\t* Transition: Lower the working leg back to first position, pliéing the supporting leg\n\n**Preparation (4 counts):**\n\nStand in first position, with feet together and arms relaxed by your sides. Take a deep breath in, engaging your core and lengthening your spine. As you exhale, slowly raise your arms to first position, keeping them relaxed and curved.\n\n**Ending Phrase (4 counts):**\n\nFinish the sequence in first position, with feet together and arms in first position. Take a deep breath in, and as you exhale, slowly lower your arms to your sides, keeping them relaxed. Take a final deep breath in, and as you exhale, bow your head slightly, keeping your core engaged and your spine lengthened.\n\n**Justification:**\n\nThis sequence is designed to focus on rond de jambe, with an emphasis on exploring different directions and adding various movements. The sequence begins with rond de jambe à terre to the front and sides, establishing a strong foundation and sense of direction. The added movements, such as petit battement sur le coud de pied, retiré/passé, and attitude avec plié, challenge the dancers to control their movements and transitions. The moderate tempo and 3/4 time signature provide a steady and lilting rhythm, allowing the dancers to focus on their technique and movement quality."
     },
     "metadata": {},
     "output_type": "display_data"
    }
   ],
   "execution_count": 13
  },
  {
   "metadata": {},
   "cell_type": "code",
   "outputs": [],
   "execution_count": null,
   "source": [
    "response = conv.generate(\"Now you will design a sequence for grand battement.\\\n",
    "                         You should not focus on doing all  movements in all positions but,\\\n",
    "                         to make them towards all directions\\\n",
    "                         Be detailed explaining each movement\\\n",
    "                         These are must haves:\\\n",
    "                         a) Arabesques \\\n",
    "                         b) Balances \")\n",
    "display(Markdown(response))"
   ],
   "id": "d5f6c55a361a8313"
  },
  {
   "metadata": {
    "ExecuteTime": {
     "end_time": "2025-04-02T18:23:08.209088Z",
     "start_time": "2025-04-02T18:23:07.998773Z"
    }
   },
   "cell_type": "code",
   "source": [
    "response = \"**Sequence: Grand Battement with Directions and Added Movements**\\n\\n**Music:** A moderate to fast tempo with a 4/4 time signature, ideally a classical piano piece with a strong and dramatic rhythm. (e.g., Tchaikovsky's Piano Concerto No. 1)\\n\\n**Tempo:** Moderate to fast, around 120-124 beats per minute (BPM)\\n\\n**Sequence:**\\n\\n**Part 1: Grand Battement to the Front and Sides**\\n\\n1. **Grand Battement to the Front** (4 counts)\\n\\t* Feet: First position, with the working foot (right) brushing out to the front\\n\\t* Arms: Relaxed, with a slight curve, in first position (palms facing downwards)\\n\\t* Body: Engaged core, lengthened spine, and relaxed shoulders\\n\\t* Movement: Brush the working foot out to the front, keeping the knee straight and the toe pointed\\n\\t* Transition: Bring the working foot back to first position\\n\\t* Note: Focus on using the core and leg muscles to generate power and control for the grand battement.\\n2. **Grand Battement to the Side (Right)** (4 counts)\\n\\t* Feet: First position, with the working foot (right) brushing out to the right side\\n\\t* Arms: Still in first position\\n\\t* Body: Maintain the engaged core and lengthened spine\\n\\t* Movement: Brush the working foot out to the right side, keeping the knee straight and the toe pointed\\n\\t* Transition: Bring the working foot back to first position\\n\\t* Note: Keep the working foot in line with the supporting leg, and avoid letting it drift forward or backward.\\n3. **Grand Battement to the Side (Left)** (4 counts)\\n\\t* Feet: First position, with the working foot (left) brushing out to the left side\\n\\t* Arms: Still in first position\\n\\t* Body: Maintain the engaged core and lengthened spine\\n\\t* Movement: Brush the working foot out to the left side, keeping the knee straight and the toe pointed\\n\\t* Transition: Bring the working foot back to first position\\n\\t* Note: Keep the working foot in line with the supporting leg, and avoid letting it drift forward or backward.\\n\\n**Part 2: Grand Battement to the Back and Added Movements**\\n\\n1. **Grand Battement to the Back** (4 counts)\\n\\t* Feet: First position, with the working foot (right) brushing out to the back\\n\\t* Arms: Still in first position\\n\\t* Body: Maintain the engaged core and lengthened spine\\n\\t* Movement: Brush the working foot out to the back, keeping the knee straight and the toe pointed\\n\\t* Transition: Bring the working foot back to first position\\n\\t* Note: Focus on using the core and leg muscles to generate power and control for the grand battement.\\n2. **Arabesque (Right)** (4 counts)\\n\\t* Feet: First position, with the working foot (right) lifting into arabesque\\n\\t* Arms: Extended, with the right arm reaching forward and the left arm reaching backward\\n\\t* Body: Maintain the engaged core and lengthened spine\\n\\t* Movement: Lift the working leg into arabesque, keeping the back straight and the knee straight\\n\\t* Transition: Lower the working leg back to first position\\n\\t* Note: Focus on maintaining balance and control throughout the arabesque.\\n3. **Arabesque (Left)** (4 counts)\\n\\t* Feet: First position, with the working foot (left) lifting into arabesque\\n\\t* Arms: Extended, with the left arm reaching forward and the right arm reaching backward\\n\\t* Body: Maintain the engaged core and lengthened spine\\n\\t* Movement: Lift the working leg into arabesque, keeping the back straight and the knee straight\\n\\t* Transition: Lower the working leg back to first position\\n\\t* Note: Focus on maintaining balance and control throughout the arabesque.\\n4. **Balance (Right)** (4 counts)\\n\\t* Feet: First position, with the working foot (right) lifting into balance\\n\\t* Arms: Extended, with the right arm reaching forward and the left arm reaching backward\\n\\t* Body: Maintain the engaged core and lengthened spine\\n\\t* Movement: Lift the working leg into balance, keeping the back straight and the knee bent\\n\\t* Transition: Lower the working leg back to first position\\n\\t* Note: Focus on maintaining balance and control throughout the balance.\\n5. **Balance (Left)** (4 counts)\\n\\t* Feet: First position, with the working foot (left) lifting into balance\\n\\t* Arms: Extended, with the left arm reaching forward and the right arm reaching backward\\n\\t* Body: Maintain the engaged core and lengthened spine\\n\\t* Movement: Lift the working leg into balance, keeping the back straight and the knee bent\\n\\t* Transition: Lower the working leg back to first position\\n\\t* Note: Focus on maintaining balance and control throughout the balance.\\n\\n**Preparation (4 counts):**\\n\\nStand in first position, with feet together and arms relaxed by your sides. Take a deep breath in, engaging your core and lengthening your spine. As you exhale, slowly raise your arms to first position, keeping them relaxed and curved.\\n\\n**Ending Phrase (4 counts):**\\n\\nFinish the sequence in first position, with feet together and arms in first position. Take a deep breath in, and as you exhale, slowly lower your arms to your sides, keeping them relaxed. Take a final deep breath in, and as you exhale, bow your head slightly, keeping your core engaged and your spine lengthened.\\n\\n**Justification:**\\n\\nThis sequence is designed to focus on grand battement, with an emphasis on exploring different directions and adding various movements. The sequence begins with grand battement to the front and sides, establishing a strong foundation and sense of direction. The added movements, such as arabesque and balance, challenge the dancers to control their movements and transitions. The moderate to fast tempo and 4/4 time signature provide a strong and dramatic rhythm, allowing the dancers to focus on their technique and movement quality.\"\n",
    "display(Markdown(response))"
   ],
   "id": "22dee880054f937c",
   "outputs": [
    {
     "data": {
      "text/plain": [
       "<IPython.core.display.Markdown object>"
      ],
      "text/markdown": "**Sequence: Grand Battement with Directions and Added Movements**\n\n**Music:** A moderate to fast tempo with a 4/4 time signature, ideally a classical piano piece with a strong and dramatic rhythm. (e.g., Tchaikovsky's Piano Concerto No. 1)\n\n**Tempo:** Moderate to fast, around 120-124 beats per minute (BPM)\n\n**Sequence:**\n\n**Part 1: Grand Battement to the Front and Sides**\n\n1. **Grand Battement to the Front** (4 counts)\n\t* Feet: First position, with the working foot (right) brushing out to the front\n\t* Arms: Relaxed, with a slight curve, in first position (palms facing downwards)\n\t* Body: Engaged core, lengthened spine, and relaxed shoulders\n\t* Movement: Brush the working foot out to the front, keeping the knee straight and the toe pointed\n\t* Transition: Bring the working foot back to first position\n\t* Note: Focus on using the core and leg muscles to generate power and control for the grand battement.\n2. **Grand Battement to the Side (Right)** (4 counts)\n\t* Feet: First position, with the working foot (right) brushing out to the right side\n\t* Arms: Still in first position\n\t* Body: Maintain the engaged core and lengthened spine\n\t* Movement: Brush the working foot out to the right side, keeping the knee straight and the toe pointed\n\t* Transition: Bring the working foot back to first position\n\t* Note: Keep the working foot in line with the supporting leg, and avoid letting it drift forward or backward.\n3. **Grand Battement to the Side (Left)** (4 counts)\n\t* Feet: First position, with the working foot (left) brushing out to the left side\n\t* Arms: Still in first position\n\t* Body: Maintain the engaged core and lengthened spine\n\t* Movement: Brush the working foot out to the left side, keeping the knee straight and the toe pointed\n\t* Transition: Bring the working foot back to first position\n\t* Note: Keep the working foot in line with the supporting leg, and avoid letting it drift forward or backward.\n\n**Part 2: Grand Battement to the Back and Added Movements**\n\n1. **Grand Battement to the Back** (4 counts)\n\t* Feet: First position, with the working foot (right) brushing out to the back\n\t* Arms: Still in first position\n\t* Body: Maintain the engaged core and lengthened spine\n\t* Movement: Brush the working foot out to the back, keeping the knee straight and the toe pointed\n\t* Transition: Bring the working foot back to first position\n\t* Note: Focus on using the core and leg muscles to generate power and control for the grand battement.\n2. **Arabesque (Right)** (4 counts)\n\t* Feet: First position, with the working foot (right) lifting into arabesque\n\t* Arms: Extended, with the right arm reaching forward and the left arm reaching backward\n\t* Body: Maintain the engaged core and lengthened spine\n\t* Movement: Lift the working leg into arabesque, keeping the back straight and the knee straight\n\t* Transition: Lower the working leg back to first position\n\t* Note: Focus on maintaining balance and control throughout the arabesque.\n3. **Arabesque (Left)** (4 counts)\n\t* Feet: First position, with the working foot (left) lifting into arabesque\n\t* Arms: Extended, with the left arm reaching forward and the right arm reaching backward\n\t* Body: Maintain the engaged core and lengthened spine\n\t* Movement: Lift the working leg into arabesque, keeping the back straight and the knee straight\n\t* Transition: Lower the working leg back to first position\n\t* Note: Focus on maintaining balance and control throughout the arabesque.\n4. **Balance (Right)** (4 counts)\n\t* Feet: First position, with the working foot (right) lifting into balance\n\t* Arms: Extended, with the right arm reaching forward and the left arm reaching backward\n\t* Body: Maintain the engaged core and lengthened spine\n\t* Movement: Lift the working leg into balance, keeping the back straight and the knee bent\n\t* Transition: Lower the working leg back to first position\n\t* Note: Focus on maintaining balance and control throughout the balance.\n5. **Balance (Left)** (4 counts)\n\t* Feet: First position, with the working foot (left) lifting into balance\n\t* Arms: Extended, with the left arm reaching forward and the right arm reaching backward\n\t* Body: Maintain the engaged core and lengthened spine\n\t* Movement: Lift the working leg into balance, keeping the back straight and the knee bent\n\t* Transition: Lower the working leg back to first position\n\t* Note: Focus on maintaining balance and control throughout the balance.\n\n**Preparation (4 counts):**\n\nStand in first position, with feet together and arms relaxed by your sides. Take a deep breath in, engaging your core and lengthening your spine. As you exhale, slowly raise your arms to first position, keeping them relaxed and curved.\n\n**Ending Phrase (4 counts):**\n\nFinish the sequence in first position, with feet together and arms in first position. Take a deep breath in, and as you exhale, slowly lower your arms to your sides, keeping them relaxed. Take a final deep breath in, and as you exhale, bow your head slightly, keeping your core engaged and your spine lengthened.\n\n**Justification:**\n\nThis sequence is designed to focus on grand battement, with an emphasis on exploring different directions and adding various movements. The sequence begins with grand battement to the front and sides, establishing a strong foundation and sense of direction. The added movements, such as arabesque and balance, challenge the dancers to control their movements and transitions. The moderate to fast tempo and 4/4 time signature provide a strong and dramatic rhythm, allowing the dancers to focus on their technique and movement quality."
     },
     "metadata": {},
     "output_type": "display_data"
    }
   ],
   "execution_count": 14
  },
  {
   "metadata": {},
   "cell_type": "code",
   "outputs": [],
   "execution_count": null,
   "source": [
    "response = conv.generate(\"Now you will design a sequence for streteching.\\\n",
    "                         Propose some barre and some floor stretching movements\")\n",
    "display(Markdown(response))"
   ],
   "id": "6b88922b02f1a85f"
  },
  {
   "metadata": {
    "ExecuteTime": {
     "end_time": "2025-04-02T18:24:27.863720Z",
     "start_time": "2025-04-02T18:24:27.687719Z"
    }
   },
   "cell_type": "code",
   "source": [
    "response = \"**Sequence: Stretching**\\n\\n**Music:** A slow and calming tempo with a 4/4 time signature, ideally a classical piano piece or nature sounds. (e.g., Chopin's Nocturne in E-flat major, Op. 9, No. 2)\\n\\n**Tempo:** Slow, around 60-64 beats per minute (BPM)\\n\\n**Barre Stretching (10 counts):**\\n\\n1. **Plié in First Position** (2 counts)\\n\\t* Feet: Heels together, toes turned out\\n\\t* Arms: Relaxed, with a slight curve, in first position (palms facing downwards)\\n\\t* Body: Engaged core, lengthened spine, and relaxed shoulders\\n\\t* Movement: Slowly lower the body down into a plié, keeping the back straight and the knees over the toes\\n2. **Tendu to the Front** (2 counts)\\n\\t* Feet: First position, with the working foot (right) brushing out to the front\\n\\t* Arms: Still in first position\\n\\t* Body: Maintain the engaged core and lengthened spine\\n\\t* Movement: Brush the working foot out to the front, keeping the knee straight and the toe pointed\\n3. **Stretch to the Front** (2 counts)\\n\\t* Feet: First position, with the working foot (right) stretching out to the front\\n\\t* Arms: Extended, with the right arm reaching forward and the left arm reaching backward\\n\\t* Body: Maintain the engaged core and lengthened spine\\n\\t* Movement: Stretch the working leg out to the front, keeping the back straight and the knee straight\\n4. **Plié in First Position** (2 counts)\\n\\t* Feet: Heels together, toes turned out\\n\\t* Arms: Relaxed, with a slight curve, in first position (palms facing downwards)\\n\\t* Body: Engaged core, lengthened spine, and relaxed shoulders\\n\\t* Movement: Slowly lower the body down into a plié, keeping the back straight and the knees over the toes\\n5. **Tendu to the Side** (2 counts)\\n\\t* Feet: First position, with the working foot (right) brushing out to the side\\n\\t* Arms: Still in first position\\n\\t* Body: Maintain the engaged core and lengthened spine\\n\\t* Movement: Brush the working foot out to the side, keeping the knee straight and the toe pointed\\n\\n**Floor Stretching (16 counts):**\\n\\n1. **Hamstring Stretch** (4 counts)\\n\\t* Feet: Sitting on the floor with the legs straight out in front\\n\\t* Arms: Extended, with the hands reaching forward\\n\\t* Body: Engaged core, lengthened spine, and relaxed shoulders\\n\\t* Movement: Lean forward, stretching the hamstrings and keeping the back straight\\n2. **Hip Flexor Stretch** (4 counts)\\n\\t* Feet: Kneeling on the floor with the right knee bent and the left leg straight out behind\\n\\t* Arms: Extended, with the right arm reaching forward and the left arm reaching backward\\n\\t* Body: Engaged core, lengthened spine, and relaxed shoulders\\n\\t* Movement: Lean forward, stretching the hip flexor and keeping the back straight\\n3. **Quad Stretch** (4 counts)\\n\\t* Feet: Standing on the floor with the right leg bent behind and the left leg straight out in front\\n\\t* Arms: Extended, with the right arm reaching backward and the left arm reaching forward\\n\\t* Body: Engaged core, lengthened spine, and relaxed shoulders\\n\\t* Movement: Lean forward, stretching the quadriceps and keeping the back straight\\n4. **Calf Stretch** (4 counts)\\n\\t* Feet: Standing on the floor with the right leg straight out in front and the left leg bent behind\\n\\t* Arms: Extended, with the right arm reaching forward and the left arm reaching backward\\n\\t* Body: Engaged core, lengthened spine, and relaxed shoulders\\n\\t* Movement: Lean forward, stretching the calf muscles and keeping the back straight\\n\\n**Preparation (4 counts):**\\n\\nStand in first position, with feet together and arms relaxed by your sides. Take a deep breath in, engaging your core and lengthening your spine. As you exhale, slowly raise your arms to first position, keeping them relaxed and curved.\\n\\n**Ending Phrase (4 counts):**\\n\\nFinish the sequence in a relaxed position, with feet together and arms by your sides. Take a deep breath in, and as you exhale, slowly lower your arms to your sides, keeping them relaxed. Take a final deep breath in, and as you exhale, bow your head slightly, keeping your core engaged and your spine lengthened.\\n\\n**Justification:**\\n\\nThis sequence is designed to focus on stretching, with an emphasis on releasing tension and improving flexibility. The barre stretching movements target the major muscle groups, including the hamstrings, quadriceps, and hip flexors. The floor stretching movements target the same muscle groups, as well as the calf muscles. The slow tempo and calming music provide a relaxing atmosphere, allowing the dancers to focus on their breathing and stretching.\"\n",
    "display(Markdown(response))"
   ],
   "id": "a21fc402edf29f02",
   "outputs": [
    {
     "data": {
      "text/plain": [
       "<IPython.core.display.Markdown object>"
      ],
      "text/markdown": "**Sequence: Stretching**\n\n**Music:** A slow and calming tempo with a 4/4 time signature, ideally a classical piano piece or nature sounds. (e.g., Chopin's Nocturne in E-flat major, Op. 9, No. 2)\n\n**Tempo:** Slow, around 60-64 beats per minute (BPM)\n\n**Barre Stretching (10 counts):**\n\n1. **Plié in First Position** (2 counts)\n\t* Feet: Heels together, toes turned out\n\t* Arms: Relaxed, with a slight curve, in first position (palms facing downwards)\n\t* Body: Engaged core, lengthened spine, and relaxed shoulders\n\t* Movement: Slowly lower the body down into a plié, keeping the back straight and the knees over the toes\n2. **Tendu to the Front** (2 counts)\n\t* Feet: First position, with the working foot (right) brushing out to the front\n\t* Arms: Still in first position\n\t* Body: Maintain the engaged core and lengthened spine\n\t* Movement: Brush the working foot out to the front, keeping the knee straight and the toe pointed\n3. **Stretch to the Front** (2 counts)\n\t* Feet: First position, with the working foot (right) stretching out to the front\n\t* Arms: Extended, with the right arm reaching forward and the left arm reaching backward\n\t* Body: Maintain the engaged core and lengthened spine\n\t* Movement: Stretch the working leg out to the front, keeping the back straight and the knee straight\n4. **Plié in First Position** (2 counts)\n\t* Feet: Heels together, toes turned out\n\t* Arms: Relaxed, with a slight curve, in first position (palms facing downwards)\n\t* Body: Engaged core, lengthened spine, and relaxed shoulders\n\t* Movement: Slowly lower the body down into a plié, keeping the back straight and the knees over the toes\n5. **Tendu to the Side** (2 counts)\n\t* Feet: First position, with the working foot (right) brushing out to the side\n\t* Arms: Still in first position\n\t* Body: Maintain the engaged core and lengthened spine\n\t* Movement: Brush the working foot out to the side, keeping the knee straight and the toe pointed\n\n**Floor Stretching (16 counts):**\n\n1. **Hamstring Stretch** (4 counts)\n\t* Feet: Sitting on the floor with the legs straight out in front\n\t* Arms: Extended, with the hands reaching forward\n\t* Body: Engaged core, lengthened spine, and relaxed shoulders\n\t* Movement: Lean forward, stretching the hamstrings and keeping the back straight\n2. **Hip Flexor Stretch** (4 counts)\n\t* Feet: Kneeling on the floor with the right knee bent and the left leg straight out behind\n\t* Arms: Extended, with the right arm reaching forward and the left arm reaching backward\n\t* Body: Engaged core, lengthened spine, and relaxed shoulders\n\t* Movement: Lean forward, stretching the hip flexor and keeping the back straight\n3. **Quad Stretch** (4 counts)\n\t* Feet: Standing on the floor with the right leg bent behind and the left leg straight out in front\n\t* Arms: Extended, with the right arm reaching backward and the left arm reaching forward\n\t* Body: Engaged core, lengthened spine, and relaxed shoulders\n\t* Movement: Lean forward, stretching the quadriceps and keeping the back straight\n4. **Calf Stretch** (4 counts)\n\t* Feet: Standing on the floor with the right leg straight out in front and the left leg bent behind\n\t* Arms: Extended, with the right arm reaching forward and the left arm reaching backward\n\t* Body: Engaged core, lengthened spine, and relaxed shoulders\n\t* Movement: Lean forward, stretching the calf muscles and keeping the back straight\n\n**Preparation (4 counts):**\n\nStand in first position, with feet together and arms relaxed by your sides. Take a deep breath in, engaging your core and lengthening your spine. As you exhale, slowly raise your arms to first position, keeping them relaxed and curved.\n\n**Ending Phrase (4 counts):**\n\nFinish the sequence in a relaxed position, with feet together and arms by your sides. Take a deep breath in, and as you exhale, slowly lower your arms to your sides, keeping them relaxed. Take a final deep breath in, and as you exhale, bow your head slightly, keeping your core engaged and your spine lengthened.\n\n**Justification:**\n\nThis sequence is designed to focus on stretching, with an emphasis on releasing tension and improving flexibility. The barre stretching movements target the major muscle groups, including the hamstrings, quadriceps, and hip flexors. The floor stretching movements target the same muscle groups, as well as the calf muscles. The slow tempo and calming music provide a relaxing atmosphere, allowing the dancers to focus on their breathing and stretching."
     },
     "metadata": {},
     "output_type": "display_data"
    }
   ],
   "execution_count": 15
  },
  {
   "metadata": {},
   "cell_type": "code",
   "outputs": [],
   "execution_count": null,
   "source": "",
   "id": "8b84d55837e629a1"
  }
 ],
 "metadata": {
  "kernelspec": {
   "display_name": "Python 3",
   "language": "python",
   "name": "python3"
  },
  "language_info": {
   "codemirror_mode": {
    "name": "ipython",
    "version": 2
   },
   "file_extension": ".py",
   "mimetype": "text/x-python",
   "name": "python",
   "nbconvert_exporter": "python",
   "pygments_lexer": "ipython2",
   "version": "2.7.6"
  }
 },
 "nbformat": 4,
 "nbformat_minor": 5
}
